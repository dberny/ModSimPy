{
 "cells": [
  {
   "cell_type": "markdown",
   "metadata": {},
   "source": [
    "# Modeling and Simulation in Python\n",
    "\n",
    "Chapter 1: Modeling\n",
    "\n",
    "Copyright 2017 Allen Downey\n",
    "\n",
    "License: [Creative Commons Attribution 4.0 International](https://creativecommons.org/licenses/by/4.0)"
   ]
  },
  {
   "cell_type": "markdown",
   "metadata": {},
   "source": [
    "## Jupyter\n",
    "\n",
    "Welcome to Modeling and Simulation, welcome to Python, and welcome to Jupyter.\n",
    "\n",
    "This is a Jupyter notebook, which is a development environment where you can write and run Python code.  Each notebook is divided into cells.  Each cell contains either text (like this cell) or Python code (like the cell below this one).\n",
    "\n",
    "### Selecting and running cells\n",
    "\n",
    "To select a cell, click in the left margin next to the cell.  You should see a blue frame surrounding the selected cell.\n",
    "\n",
    "To edit a code cell, click inside the cell.  You should see a green frame around the selected cell, and you should see a cursor inside the cell.\n",
    "\n",
    "To edit a text cell, double-click inside the cell.  Again, you should see a green frame around the selected cell, and you should see a cursor inside the cell.\n",
    "\n",
    "To run a cell, hold down SHIFT and press ENTER.  If you run a text cell, it will typeset the text and display the result.\n",
    "\n",
    "If you run a code cell, it runs the Python code in the cell and displays the result, if any wowoowwoowwowowwoow.\n",
    "\n",
    "To try it out, edit this cell, change some of the text, and then press SHIFT-ENTER to run it."
   ]
  },
  {
   "cell_type": "markdown",
   "metadata": {},
   "source": [
    "### Adding and removing cells\n",
    "\n",
    "You can add and remove cells from a notebook using the buttons in the toolbar and the items in the menu, both of which you should see at the top of this notebook.\n",
    "\n",
    "You might want to try the following exercises:\n",
    "\n",
    "1.  From the Insert menu select \"Insert cell below\" to add a cell below this one.  By default, you get a code cell, and you can see in the pulldown menu that says \"Code\".\n",
    "\n",
    "2.  In the new cell, add a print statement like `print('Hello')`, and run it.\n",
    "\n",
    "3.  Add another cell, select the new cell, and then click on the pulldown menu that says \"Code\" and select \"Markdown\".  This makes the new cell a text cell.\n",
    "\n",
    "4.  In the new cell, type some text, and then run it.\n",
    "\n",
    "5.  Use the arrow buttons in the toolbar to move cells up and down.\n",
    "\n",
    "6.  Use the cut, copy, and paste buttons to delete, add, and move cells.\n",
    "\n",
    "7.  As you make changes, Jupyter saves your notebook automatically, but if you want to make sure, you can press the save button, which looks like a floppy disk from the 1990s.\n",
    "\n",
    "8.  Finally, when you are done with a notebook, selection \"Close and Halt\" from the File menu."
   ]
  },
  {
   "cell_type": "code",
   "execution_count": 3,
   "metadata": {},
   "outputs": [
    {
     "name": "stdout",
     "output_type": "stream",
     "text": [
      "Hello\n"
     ]
    }
   ],
   "source": [
    "print('Hello')"
   ]
  },
  {
   "cell_type": "markdown",
   "metadata": {},
   "source": [
    "this is a text cell"
   ]
  },
  {
   "cell_type": "markdown",
   "metadata": {},
   "source": [
    "### Using the notebooks\n",
    "\n",
    "The notebooks for each chapter contain the code from the chapter along with addition examples, explanatory text, and exercises.  I recommend you read the chapter first to understand the concepts and vocabulary, then run the notebook to review what you learned and see it in action, and then attempt the exercises.\n",
    "\n",
    "The notebooks contain some explanatory text, but it is probably not enough to make sense if you have not read the book.  If you are working through a notebook and you get stuck, you might want to re-read (or read!) the corresponding section of the book.\n",
    "\n",
    "If you try to work through the notebooks without reading the book, you're gonna have a bad time.  If you have previous programming experience, you might get through the first few notebooks, but sooner or later, you will get to the end of your leash, and you won't like it."
   ]
  },
  {
   "cell_type": "markdown",
   "metadata": {},
   "source": [
    "### Importing modsim\n",
    "\n",
    "The following cell imports `modsim`, which is a collection of functions we will use throughout the book.  Whenever you start the notebook, you will have to run the following cell.  It does two things:\n",
    "\n",
    "1.  It uses a Jupyter \"magic command\" to specify whether figures should appear in the notebook, or pop up in a new window.\n",
    "\n",
    "2.  It imports everything defined in `modsim`.\n",
    "\n",
    "Select the following cell and press SHIFT-ENTER to run it."
   ]
  },
  {
   "cell_type": "code",
   "execution_count": 1,
   "metadata": {},
   "outputs": [
    {
     "name": "stdout",
     "output_type": "stream",
     "text": [
      "If this cell runs successfully, it produces no output other than this message.\n"
     ]
    }
   ],
   "source": [
    "# If you want the figures to appear in the notebook, \n",
    "# and you want to interact with them, use\n",
    "# %matplotlib notebook\n",
    "\n",
    "# If you want the figures to appear in the notebook, \n",
    "# and you don't want to interact with them, use\n",
    "# %matplotlib inline\n",
    "\n",
    "# If you want the figures to appear in separate windows, use\n",
    "# %matplotlib qt5\n",
    "\n",
    "# To switch from one to another, you have to select Kernel->Restart\n",
    "\n",
    "%matplotlib notebook\n",
    "\n",
    "from modsim import *\n",
    "\n",
    "print('If this cell runs successfully, it produces no output other than this message.')"
   ]
  },
  {
   "cell_type": "markdown",
   "metadata": {},
   "source": [
    "## The penny myth\n",
    "\n",
    "The following cells contain code from the beginning of Chapter 1.\n",
    "\n",
    "`modsim` defines `UNITS`, which contains variables representing pretty much every unit you've ever heard of.  The following to lines create new variables named `meter` and `second`."
   ]
  },
  {
   "cell_type": "code",
   "execution_count": 2,
   "metadata": {
    "collapsed": true
   },
   "outputs": [],
   "source": [
    "meter = UNITS.meter\n",
    "second = UNITS.second"
   ]
  },
  {
   "cell_type": "markdown",
   "metadata": {},
   "source": [
    "To find out what units are defined, type `UNITS.` in the next cell and then press TAB.  You should see a pop-up menu with a list of units."
   ]
  },
  {
   "cell_type": "code",
   "execution_count": 3,
   "metadata": {},
   "outputs": [
    {
     "ename": "SyntaxError",
     "evalue": "invalid syntax (<ipython-input-3-cd42a0bb6380>, line 1)",
     "output_type": "error",
     "traceback": [
      "\u001b[1;36m  File \u001b[1;32m\"<ipython-input-3-cd42a0bb6380>\"\u001b[1;36m, line \u001b[1;32m1\u001b[0m\n\u001b[1;33m    UNITS.\u001b[0m\n\u001b[1;37m          ^\u001b[0m\n\u001b[1;31mSyntaxError\u001b[0m\u001b[1;31m:\u001b[0m invalid syntax\n"
     ]
    }
   ],
   "source": [
    "UNITS."
   ]
  },
  {
   "cell_type": "markdown",
   "metadata": {},
   "source": [
    "Create a variable named `a` and display its value:"
   ]
  },
  {
   "cell_type": "code",
   "execution_count": 4,
   "metadata": {},
   "outputs": [
    {
     "data": {
      "text/html": [
       "9.8 meter/second<sup>2</sup>"
      ],
      "text/latex": [
       "$9.8 \\frac{meter}{second^{2}}$"
      ],
      "text/plain": [
       "<Quantity(9.8, 'meter / second ** 2')>"
      ]
     },
     "execution_count": 4,
     "metadata": {},
     "output_type": "execute_result"
    }
   ],
   "source": [
    "a = 9.8 * meter / second**2\n",
    "a"
   ]
  },
  {
   "cell_type": "markdown",
   "metadata": {
    "collapsed": true
   },
   "source": [
    "Create `t` and display its value:"
   ]
  },
  {
   "cell_type": "code",
   "execution_count": 5,
   "metadata": {},
   "outputs": [
    {
     "data": {
      "text/html": [
       "4 second"
      ],
      "text/latex": [
       "$4 second$"
      ],
      "text/plain": [
       "<Quantity(4, 'second')>"
      ]
     },
     "execution_count": 5,
     "metadata": {},
     "output_type": "execute_result"
    }
   ],
   "source": [
    "t = 4 * second\n",
    "t"
   ]
  },
  {
   "cell_type": "markdown",
   "metadata": {
    "collapsed": true
   },
   "source": [
    "If you create a variable and don't display the value, you don't get any output:"
   ]
  },
  {
   "cell_type": "code",
   "execution_count": 6,
   "metadata": {},
   "outputs": [
    {
     "data": {
      "text/html": [
       "156.8 meter"
      ],
      "text/latex": [
       "$156.8 meter$"
      ],
      "text/plain": [
       "<Quantity(156.8, 'meter')>"
      ]
     },
     "execution_count": 6,
     "metadata": {},
     "output_type": "execute_result"
    }
   ],
   "source": [
    "h = a * t**2\n",
    "h"
   ]
  },
  {
   "cell_type": "markdown",
   "metadata": {
    "collapsed": true
   },
   "source": [
    "Add a second line to the previous cell to display the value of `h`.\n",
    "\n",
    "Now let's solve the falling penny problem.  The following lines set `h` to the height of the Empire State Building and compute the time it would take a penny to fall, assuming constant acceleration."
   ]
  },
  {
   "cell_type": "code",
   "execution_count": 7,
   "metadata": {},
   "outputs": [
    {
     "data": {
      "text/html": [
       "8.817885349720552 second"
      ],
      "text/latex": [
       "$8.817885349720552 second$"
      ],
      "text/plain": [
       "<Quantity(8.817885349720552, 'second')>"
      ]
     },
     "execution_count": 7,
     "metadata": {},
     "output_type": "execute_result"
    }
   ],
   "source": [
    "h = 381 * meter\n",
    "t = sqrt(2 * h / a)\n",
    "t"
   ]
  },
  {
   "cell_type": "markdown",
   "metadata": {
    "collapsed": true
   },
   "source": [
    "Given `t`, we can compute the velocity of the penny when it lands."
   ]
  },
  {
   "cell_type": "code",
   "execution_count": 8,
   "metadata": {},
   "outputs": [
    {
     "data": {
      "text/html": [
       "86.41527642726142 meter/second"
      ],
      "text/latex": [
       "$86.41527642726142 \\frac{meter}{second}$"
      ],
      "text/plain": [
       "<Quantity(86.41527642726142, 'meter / second')>"
      ]
     },
     "execution_count": 8,
     "metadata": {},
     "output_type": "execute_result"
    }
   ],
   "source": [
    "v = a * t\n",
    "v"
   ]
  },
  {
   "cell_type": "markdown",
   "metadata": {
    "collapsed": true
   },
   "source": [
    "We can convert from one set of units to another like this:"
   ]
  },
  {
   "cell_type": "code",
   "execution_count": 9,
   "metadata": {
    "collapsed": true
   },
   "outputs": [],
   "source": [
    "mile = UNITS.mile\n",
    "hour= UNITS.hour"
   ]
  },
  {
   "cell_type": "code",
   "execution_count": 10,
   "metadata": {},
   "outputs": [
    {
     "data": {
      "text/html": [
       "193.30546802805438 mile/hour"
      ],
      "text/latex": [
       "$193.30546802805438 \\frac{mile}{hour}$"
      ],
      "text/plain": [
       "<Quantity(193.30546802805438, 'mile / hour')>"
      ]
     },
     "execution_count": 10,
     "metadata": {},
     "output_type": "execute_result"
    }
   ],
   "source": [
    "v.to(mile/hour)"
   ]
  },
  {
   "cell_type": "markdown",
   "metadata": {},
   "source": [
    "**Exercise:** In reality, air resistance prevents the penny from reaching this velocity.  At about 20 meters per second, the force of air resistance equals the force of gravity and the penny stops accelerating.\n",
    "\n",
    "As a simplification, let's assume that the acceleration of the penny is `a` until the penny reaches 20 meters per second, and then 0 afterwards.  What is the total time for the penny to fall 381 meters?"
   ]
  },
  {
   "cell_type": "code",
   "execution_count": 11,
   "metadata": {},
   "outputs": [
    {
     "data": {
      "text/html": [
       "20.070408163265306 second"
      ],
      "text/latex": [
       "$20.070408163265306 second$"
      ],
      "text/plain": [
       "<Quantity(20.070408163265306, 'second')>"
      ]
     },
     "execution_count": 11,
     "metadata": {},
     "output_type": "execute_result"
    }
   ],
   "source": [
    "# Solution goes here\n",
    "meter = UNITS.meter\n",
    "second = UNITS.second\n",
    "\n",
    "a = 9.8 * meter / second**2\n",
    "h = 381 * meter\n",
    "v = 20 * meter / second\n",
    "\n",
    "t = v/a\n",
    "\n",
    "fall1 = a*(t**2)/2\n",
    "h = h - fall1\n",
    "\n",
    "answer = (h / v) + t\n",
    "answer"
   ]
  },
  {
   "cell_type": "markdown",
   "metadata": {},
   "source": [
    "## Modeling a bikeshare system"
   ]
  },
  {
   "cell_type": "markdown",
   "metadata": {},
   "source": [
    "We'll start with a `System` object that represents the number of bikes at each station."
   ]
  },
  {
   "cell_type": "code",
   "execution_count": 12,
   "metadata": {
    "collapsed": true
   },
   "outputs": [],
   "source": [
    "bikeshare = System(olin=10, wellesley=2)"
   ]
  },
  {
   "cell_type": "markdown",
   "metadata": {},
   "source": [
    "If you display the value of a `System` object, it lists the system variables and their values (not necessarily in the order you defined them):"
   ]
  },
  {
   "cell_type": "code",
   "execution_count": 13,
   "metadata": {},
   "outputs": [
    {
     "data": {
      "text/html": [
       "<div>\n",
       "<style>\n",
       "    .dataframe thead tr:only-child th {\n",
       "        text-align: right;\n",
       "    }\n",
       "\n",
       "    .dataframe thead th {\n",
       "        text-align: left;\n",
       "    }\n",
       "\n",
       "    .dataframe tbody tr th {\n",
       "        vertical-align: top;\n",
       "    }\n",
       "</style>\n",
       "<table border=\"1\" class=\"dataframe\">\n",
       "  <thead>\n",
       "    <tr style=\"text-align: right;\">\n",
       "      <th></th>\n",
       "      <th>value</th>\n",
       "    </tr>\n",
       "  </thead>\n",
       "  <tbody>\n",
       "    <tr>\n",
       "      <th>olin</th>\n",
       "      <td>10</td>\n",
       "    </tr>\n",
       "    <tr>\n",
       "      <th>wellesley</th>\n",
       "      <td>2</td>\n",
       "    </tr>\n",
       "  </tbody>\n",
       "</table>\n",
       "</div>"
      ],
      "text/plain": [
       "olin         10\n",
       "wellesley     2\n",
       "dtype: int64"
      ]
     },
     "execution_count": 13,
     "metadata": {},
     "output_type": "execute_result"
    }
   ],
   "source": [
    "bikeshare"
   ]
  },
  {
   "cell_type": "markdown",
   "metadata": {},
   "source": [
    "We can access the system variables using dot notation."
   ]
  },
  {
   "cell_type": "code",
   "execution_count": 14,
   "metadata": {},
   "outputs": [
    {
     "data": {
      "text/plain": [
       "10"
      ]
     },
     "execution_count": 14,
     "metadata": {},
     "output_type": "execute_result"
    }
   ],
   "source": [
    "bikeshare.olin"
   ]
  },
  {
   "cell_type": "code",
   "execution_count": 15,
   "metadata": {
    "scrolled": true
   },
   "outputs": [
    {
     "data": {
      "text/plain": [
       "2"
      ]
     },
     "execution_count": 15,
     "metadata": {},
     "output_type": "execute_result"
    }
   ],
   "source": [
    "bikeshare.wellesley"
   ]
  },
  {
   "cell_type": "markdown",
   "metadata": {},
   "source": [
    "**Exercise:** What happens if you spell the name of a system variable wrong?  Edit the previous cell, change the spelling of `wellesley`, and run the cell again.\n",
    "\n",
    "The error message uses the word \"attribute\", which is another name for what we are calling a system variable. "
   ]
  },
  {
   "cell_type": "markdown",
   "metadata": {},
   "source": [
    "**Exercise:** Add a third attribute called `babson` with initial value 0, and print the state of `bikeshare` again."
   ]
  },
  {
   "cell_type": "markdown",
   "metadata": {},
   "source": [
    "## Plotting\n",
    "\n",
    "`newfig` creates a new figure, which should appear either in the notebook or in a new window, depending on which magic command you ran in the first code cell.\n",
    "\n",
    "`plot` adds a data point to the figure; in this example, you should see a red square and a blue circle representing the number of bikes at each station."
   ]
  },
  {
   "cell_type": "code",
   "execution_count": 16,
   "metadata": {},
   "outputs": [
    {
     "data": {
      "application/javascript": [
       "/* Put everything inside the global mpl namespace */\n",
       "window.mpl = {};\n",
       "\n",
       "\n",
       "mpl.get_websocket_type = function() {\n",
       "    if (typeof(WebSocket) !== 'undefined') {\n",
       "        return WebSocket;\n",
       "    } else if (typeof(MozWebSocket) !== 'undefined') {\n",
       "        return MozWebSocket;\n",
       "    } else {\n",
       "        alert('Your browser does not have WebSocket support.' +\n",
       "              'Please try Chrome, Safari or Firefox ≥ 6. ' +\n",
       "              'Firefox 4 and 5 are also supported but you ' +\n",
       "              'have to enable WebSockets in about:config.');\n",
       "    };\n",
       "}\n",
       "\n",
       "mpl.figure = function(figure_id, websocket, ondownload, parent_element) {\n",
       "    this.id = figure_id;\n",
       "\n",
       "    this.ws = websocket;\n",
       "\n",
       "    this.supports_binary = (this.ws.binaryType != undefined);\n",
       "\n",
       "    if (!this.supports_binary) {\n",
       "        var warnings = document.getElementById(\"mpl-warnings\");\n",
       "        if (warnings) {\n",
       "            warnings.style.display = 'block';\n",
       "            warnings.textContent = (\n",
       "                \"This browser does not support binary websocket messages. \" +\n",
       "                    \"Performance may be slow.\");\n",
       "        }\n",
       "    }\n",
       "\n",
       "    this.imageObj = new Image();\n",
       "\n",
       "    this.context = undefined;\n",
       "    this.message = undefined;\n",
       "    this.canvas = undefined;\n",
       "    this.rubberband_canvas = undefined;\n",
       "    this.rubberband_context = undefined;\n",
       "    this.format_dropdown = undefined;\n",
       "\n",
       "    this.image_mode = 'full';\n",
       "\n",
       "    this.root = $('<div/>');\n",
       "    this._root_extra_style(this.root)\n",
       "    this.root.attr('style', 'display: inline-block');\n",
       "\n",
       "    $(parent_element).append(this.root);\n",
       "\n",
       "    this._init_header(this);\n",
       "    this._init_canvas(this);\n",
       "    this._init_toolbar(this);\n",
       "\n",
       "    var fig = this;\n",
       "\n",
       "    this.waiting = false;\n",
       "\n",
       "    this.ws.onopen =  function () {\n",
       "            fig.send_message(\"supports_binary\", {value: fig.supports_binary});\n",
       "            fig.send_message(\"send_image_mode\", {});\n",
       "            if (mpl.ratio != 1) {\n",
       "                fig.send_message(\"set_dpi_ratio\", {'dpi_ratio': mpl.ratio});\n",
       "            }\n",
       "            fig.send_message(\"refresh\", {});\n",
       "        }\n",
       "\n",
       "    this.imageObj.onload = function() {\n",
       "            if (fig.image_mode == 'full') {\n",
       "                // Full images could contain transparency (where diff images\n",
       "                // almost always do), so we need to clear the canvas so that\n",
       "                // there is no ghosting.\n",
       "                fig.context.clearRect(0, 0, fig.canvas.width, fig.canvas.height);\n",
       "            }\n",
       "            fig.context.drawImage(fig.imageObj, 0, 0);\n",
       "        };\n",
       "\n",
       "    this.imageObj.onunload = function() {\n",
       "        this.ws.close();\n",
       "    }\n",
       "\n",
       "    this.ws.onmessage = this._make_on_message_function(this);\n",
       "\n",
       "    this.ondownload = ondownload;\n",
       "}\n",
       "\n",
       "mpl.figure.prototype._init_header = function() {\n",
       "    var titlebar = $(\n",
       "        '<div class=\"ui-dialog-titlebar ui-widget-header ui-corner-all ' +\n",
       "        'ui-helper-clearfix\"/>');\n",
       "    var titletext = $(\n",
       "        '<div class=\"ui-dialog-title\" style=\"width: 100%; ' +\n",
       "        'text-align: center; padding: 3px;\"/>');\n",
       "    titlebar.append(titletext)\n",
       "    this.root.append(titlebar);\n",
       "    this.header = titletext[0];\n",
       "}\n",
       "\n",
       "\n",
       "\n",
       "mpl.figure.prototype._canvas_extra_style = function(canvas_div) {\n",
       "\n",
       "}\n",
       "\n",
       "\n",
       "mpl.figure.prototype._root_extra_style = function(canvas_div) {\n",
       "\n",
       "}\n",
       "\n",
       "mpl.figure.prototype._init_canvas = function() {\n",
       "    var fig = this;\n",
       "\n",
       "    var canvas_div = $('<div/>');\n",
       "\n",
       "    canvas_div.attr('style', 'position: relative; clear: both; outline: 0');\n",
       "\n",
       "    function canvas_keyboard_event(event) {\n",
       "        return fig.key_event(event, event['data']);\n",
       "    }\n",
       "\n",
       "    canvas_div.keydown('key_press', canvas_keyboard_event);\n",
       "    canvas_div.keyup('key_release', canvas_keyboard_event);\n",
       "    this.canvas_div = canvas_div\n",
       "    this._canvas_extra_style(canvas_div)\n",
       "    this.root.append(canvas_div);\n",
       "\n",
       "    var canvas = $('<canvas/>');\n",
       "    canvas.addClass('mpl-canvas');\n",
       "    canvas.attr('style', \"left: 0; top: 0; z-index: 0; outline: 0\")\n",
       "\n",
       "    this.canvas = canvas[0];\n",
       "    this.context = canvas[0].getContext(\"2d\");\n",
       "\n",
       "    var backingStore = this.context.backingStorePixelRatio ||\n",
       "\tthis.context.webkitBackingStorePixelRatio ||\n",
       "\tthis.context.mozBackingStorePixelRatio ||\n",
       "\tthis.context.msBackingStorePixelRatio ||\n",
       "\tthis.context.oBackingStorePixelRatio ||\n",
       "\tthis.context.backingStorePixelRatio || 1;\n",
       "\n",
       "    mpl.ratio = (window.devicePixelRatio || 1) / backingStore;\n",
       "\n",
       "    var rubberband = $('<canvas/>');\n",
       "    rubberband.attr('style', \"position: absolute; left: 0; top: 0; z-index: 1;\")\n",
       "\n",
       "    var pass_mouse_events = true;\n",
       "\n",
       "    canvas_div.resizable({\n",
       "        start: function(event, ui) {\n",
       "            pass_mouse_events = false;\n",
       "        },\n",
       "        resize: function(event, ui) {\n",
       "            fig.request_resize(ui.size.width, ui.size.height);\n",
       "        },\n",
       "        stop: function(event, ui) {\n",
       "            pass_mouse_events = true;\n",
       "            fig.request_resize(ui.size.width, ui.size.height);\n",
       "        },\n",
       "    });\n",
       "\n",
       "    function mouse_event_fn(event) {\n",
       "        if (pass_mouse_events)\n",
       "            return fig.mouse_event(event, event['data']);\n",
       "    }\n",
       "\n",
       "    rubberband.mousedown('button_press', mouse_event_fn);\n",
       "    rubberband.mouseup('button_release', mouse_event_fn);\n",
       "    // Throttle sequential mouse events to 1 every 20ms.\n",
       "    rubberband.mousemove('motion_notify', mouse_event_fn);\n",
       "\n",
       "    rubberband.mouseenter('figure_enter', mouse_event_fn);\n",
       "    rubberband.mouseleave('figure_leave', mouse_event_fn);\n",
       "\n",
       "    canvas_div.on(\"wheel\", function (event) {\n",
       "        event = event.originalEvent;\n",
       "        event['data'] = 'scroll'\n",
       "        if (event.deltaY < 0) {\n",
       "            event.step = 1;\n",
       "        } else {\n",
       "            event.step = -1;\n",
       "        }\n",
       "        mouse_event_fn(event);\n",
       "    });\n",
       "\n",
       "    canvas_div.append(canvas);\n",
       "    canvas_div.append(rubberband);\n",
       "\n",
       "    this.rubberband = rubberband;\n",
       "    this.rubberband_canvas = rubberband[0];\n",
       "    this.rubberband_context = rubberband[0].getContext(\"2d\");\n",
       "    this.rubberband_context.strokeStyle = \"#000000\";\n",
       "\n",
       "    this._resize_canvas = function(width, height) {\n",
       "        // Keep the size of the canvas, canvas container, and rubber band\n",
       "        // canvas in synch.\n",
       "        canvas_div.css('width', width)\n",
       "        canvas_div.css('height', height)\n",
       "\n",
       "        canvas.attr('width', width * mpl.ratio);\n",
       "        canvas.attr('height', height * mpl.ratio);\n",
       "        canvas.attr('style', 'width: ' + width + 'px; height: ' + height + 'px;');\n",
       "\n",
       "        rubberband.attr('width', width);\n",
       "        rubberband.attr('height', height);\n",
       "    }\n",
       "\n",
       "    // Set the figure to an initial 600x600px, this will subsequently be updated\n",
       "    // upon first draw.\n",
       "    this._resize_canvas(600, 600);\n",
       "\n",
       "    // Disable right mouse context menu.\n",
       "    $(this.rubberband_canvas).bind(\"contextmenu\",function(e){\n",
       "        return false;\n",
       "    });\n",
       "\n",
       "    function set_focus () {\n",
       "        canvas.focus();\n",
       "        canvas_div.focus();\n",
       "    }\n",
       "\n",
       "    window.setTimeout(set_focus, 100);\n",
       "}\n",
       "\n",
       "mpl.figure.prototype._init_toolbar = function() {\n",
       "    var fig = this;\n",
       "\n",
       "    var nav_element = $('<div/>')\n",
       "    nav_element.attr('style', 'width: 100%');\n",
       "    this.root.append(nav_element);\n",
       "\n",
       "    // Define a callback function for later on.\n",
       "    function toolbar_event(event) {\n",
       "        return fig.toolbar_button_onclick(event['data']);\n",
       "    }\n",
       "    function toolbar_mouse_event(event) {\n",
       "        return fig.toolbar_button_onmouseover(event['data']);\n",
       "    }\n",
       "\n",
       "    for(var toolbar_ind in mpl.toolbar_items) {\n",
       "        var name = mpl.toolbar_items[toolbar_ind][0];\n",
       "        var tooltip = mpl.toolbar_items[toolbar_ind][1];\n",
       "        var image = mpl.toolbar_items[toolbar_ind][2];\n",
       "        var method_name = mpl.toolbar_items[toolbar_ind][3];\n",
       "\n",
       "        if (!name) {\n",
       "            // put a spacer in here.\n",
       "            continue;\n",
       "        }\n",
       "        var button = $('<button/>');\n",
       "        button.addClass('ui-button ui-widget ui-state-default ui-corner-all ' +\n",
       "                        'ui-button-icon-only');\n",
       "        button.attr('role', 'button');\n",
       "        button.attr('aria-disabled', 'false');\n",
       "        button.click(method_name, toolbar_event);\n",
       "        button.mouseover(tooltip, toolbar_mouse_event);\n",
       "\n",
       "        var icon_img = $('<span/>');\n",
       "        icon_img.addClass('ui-button-icon-primary ui-icon');\n",
       "        icon_img.addClass(image);\n",
       "        icon_img.addClass('ui-corner-all');\n",
       "\n",
       "        var tooltip_span = $('<span/>');\n",
       "        tooltip_span.addClass('ui-button-text');\n",
       "        tooltip_span.html(tooltip);\n",
       "\n",
       "        button.append(icon_img);\n",
       "        button.append(tooltip_span);\n",
       "\n",
       "        nav_element.append(button);\n",
       "    }\n",
       "\n",
       "    var fmt_picker_span = $('<span/>');\n",
       "\n",
       "    var fmt_picker = $('<select/>');\n",
       "    fmt_picker.addClass('mpl-toolbar-option ui-widget ui-widget-content');\n",
       "    fmt_picker_span.append(fmt_picker);\n",
       "    nav_element.append(fmt_picker_span);\n",
       "    this.format_dropdown = fmt_picker[0];\n",
       "\n",
       "    for (var ind in mpl.extensions) {\n",
       "        var fmt = mpl.extensions[ind];\n",
       "        var option = $(\n",
       "            '<option/>', {selected: fmt === mpl.default_extension}).html(fmt);\n",
       "        fmt_picker.append(option)\n",
       "    }\n",
       "\n",
       "    // Add hover states to the ui-buttons\n",
       "    $( \".ui-button\" ).hover(\n",
       "        function() { $(this).addClass(\"ui-state-hover\");},\n",
       "        function() { $(this).removeClass(\"ui-state-hover\");}\n",
       "    );\n",
       "\n",
       "    var status_bar = $('<span class=\"mpl-message\"/>');\n",
       "    nav_element.append(status_bar);\n",
       "    this.message = status_bar[0];\n",
       "}\n",
       "\n",
       "mpl.figure.prototype.request_resize = function(x_pixels, y_pixels) {\n",
       "    // Request matplotlib to resize the figure. Matplotlib will then trigger a resize in the client,\n",
       "    // which will in turn request a refresh of the image.\n",
       "    this.send_message('resize', {'width': x_pixels, 'height': y_pixels});\n",
       "}\n",
       "\n",
       "mpl.figure.prototype.send_message = function(type, properties) {\n",
       "    properties['type'] = type;\n",
       "    properties['figure_id'] = this.id;\n",
       "    this.ws.send(JSON.stringify(properties));\n",
       "}\n",
       "\n",
       "mpl.figure.prototype.send_draw_message = function() {\n",
       "    if (!this.waiting) {\n",
       "        this.waiting = true;\n",
       "        this.ws.send(JSON.stringify({type: \"draw\", figure_id: this.id}));\n",
       "    }\n",
       "}\n",
       "\n",
       "\n",
       "mpl.figure.prototype.handle_save = function(fig, msg) {\n",
       "    var format_dropdown = fig.format_dropdown;\n",
       "    var format = format_dropdown.options[format_dropdown.selectedIndex].value;\n",
       "    fig.ondownload(fig, format);\n",
       "}\n",
       "\n",
       "\n",
       "mpl.figure.prototype.handle_resize = function(fig, msg) {\n",
       "    var size = msg['size'];\n",
       "    if (size[0] != fig.canvas.width || size[1] != fig.canvas.height) {\n",
       "        fig._resize_canvas(size[0], size[1]);\n",
       "        fig.send_message(\"refresh\", {});\n",
       "    };\n",
       "}\n",
       "\n",
       "mpl.figure.prototype.handle_rubberband = function(fig, msg) {\n",
       "    var x0 = msg['x0'] / mpl.ratio;\n",
       "    var y0 = (fig.canvas.height - msg['y0']) / mpl.ratio;\n",
       "    var x1 = msg['x1'] / mpl.ratio;\n",
       "    var y1 = (fig.canvas.height - msg['y1']) / mpl.ratio;\n",
       "    x0 = Math.floor(x0) + 0.5;\n",
       "    y0 = Math.floor(y0) + 0.5;\n",
       "    x1 = Math.floor(x1) + 0.5;\n",
       "    y1 = Math.floor(y1) + 0.5;\n",
       "    var min_x = Math.min(x0, x1);\n",
       "    var min_y = Math.min(y0, y1);\n",
       "    var width = Math.abs(x1 - x0);\n",
       "    var height = Math.abs(y1 - y0);\n",
       "\n",
       "    fig.rubberband_context.clearRect(\n",
       "        0, 0, fig.canvas.width, fig.canvas.height);\n",
       "\n",
       "    fig.rubberband_context.strokeRect(min_x, min_y, width, height);\n",
       "}\n",
       "\n",
       "mpl.figure.prototype.handle_figure_label = function(fig, msg) {\n",
       "    // Updates the figure title.\n",
       "    fig.header.textContent = msg['label'];\n",
       "}\n",
       "\n",
       "mpl.figure.prototype.handle_cursor = function(fig, msg) {\n",
       "    var cursor = msg['cursor'];\n",
       "    switch(cursor)\n",
       "    {\n",
       "    case 0:\n",
       "        cursor = 'pointer';\n",
       "        break;\n",
       "    case 1:\n",
       "        cursor = 'default';\n",
       "        break;\n",
       "    case 2:\n",
       "        cursor = 'crosshair';\n",
       "        break;\n",
       "    case 3:\n",
       "        cursor = 'move';\n",
       "        break;\n",
       "    }\n",
       "    fig.rubberband_canvas.style.cursor = cursor;\n",
       "}\n",
       "\n",
       "mpl.figure.prototype.handle_message = function(fig, msg) {\n",
       "    fig.message.textContent = msg['message'];\n",
       "}\n",
       "\n",
       "mpl.figure.prototype.handle_draw = function(fig, msg) {\n",
       "    // Request the server to send over a new figure.\n",
       "    fig.send_draw_message();\n",
       "}\n",
       "\n",
       "mpl.figure.prototype.handle_image_mode = function(fig, msg) {\n",
       "    fig.image_mode = msg['mode'];\n",
       "}\n",
       "\n",
       "mpl.figure.prototype.updated_canvas_event = function() {\n",
       "    // Called whenever the canvas gets updated.\n",
       "    this.send_message(\"ack\", {});\n",
       "}\n",
       "\n",
       "// A function to construct a web socket function for onmessage handling.\n",
       "// Called in the figure constructor.\n",
       "mpl.figure.prototype._make_on_message_function = function(fig) {\n",
       "    return function socket_on_message(evt) {\n",
       "        if (evt.data instanceof Blob) {\n",
       "            /* FIXME: We get \"Resource interpreted as Image but\n",
       "             * transferred with MIME type text/plain:\" errors on\n",
       "             * Chrome.  But how to set the MIME type?  It doesn't seem\n",
       "             * to be part of the websocket stream */\n",
       "            evt.data.type = \"image/png\";\n",
       "\n",
       "            /* Free the memory for the previous frames */\n",
       "            if (fig.imageObj.src) {\n",
       "                (window.URL || window.webkitURL).revokeObjectURL(\n",
       "                    fig.imageObj.src);\n",
       "            }\n",
       "\n",
       "            fig.imageObj.src = (window.URL || window.webkitURL).createObjectURL(\n",
       "                evt.data);\n",
       "            fig.updated_canvas_event();\n",
       "            fig.waiting = false;\n",
       "            return;\n",
       "        }\n",
       "        else if (typeof evt.data === 'string' && evt.data.slice(0, 21) == \"data:image/png;base64\") {\n",
       "            fig.imageObj.src = evt.data;\n",
       "            fig.updated_canvas_event();\n",
       "            fig.waiting = false;\n",
       "            return;\n",
       "        }\n",
       "\n",
       "        var msg = JSON.parse(evt.data);\n",
       "        var msg_type = msg['type'];\n",
       "\n",
       "        // Call the  \"handle_{type}\" callback, which takes\n",
       "        // the figure and JSON message as its only arguments.\n",
       "        try {\n",
       "            var callback = fig[\"handle_\" + msg_type];\n",
       "        } catch (e) {\n",
       "            console.log(\"No handler for the '\" + msg_type + \"' message type: \", msg);\n",
       "            return;\n",
       "        }\n",
       "\n",
       "        if (callback) {\n",
       "            try {\n",
       "                // console.log(\"Handling '\" + msg_type + \"' message: \", msg);\n",
       "                callback(fig, msg);\n",
       "            } catch (e) {\n",
       "                console.log(\"Exception inside the 'handler_\" + msg_type + \"' callback:\", e, e.stack, msg);\n",
       "            }\n",
       "        }\n",
       "    };\n",
       "}\n",
       "\n",
       "// from http://stackoverflow.com/questions/1114465/getting-mouse-location-in-canvas\n",
       "mpl.findpos = function(e) {\n",
       "    //this section is from http://www.quirksmode.org/js/events_properties.html\n",
       "    var targ;\n",
       "    if (!e)\n",
       "        e = window.event;\n",
       "    if (e.target)\n",
       "        targ = e.target;\n",
       "    else if (e.srcElement)\n",
       "        targ = e.srcElement;\n",
       "    if (targ.nodeType == 3) // defeat Safari bug\n",
       "        targ = targ.parentNode;\n",
       "\n",
       "    // jQuery normalizes the pageX and pageY\n",
       "    // pageX,Y are the mouse positions relative to the document\n",
       "    // offset() returns the position of the element relative to the document\n",
       "    var x = e.pageX - $(targ).offset().left;\n",
       "    var y = e.pageY - $(targ).offset().top;\n",
       "\n",
       "    return {\"x\": x, \"y\": y};\n",
       "};\n",
       "\n",
       "/*\n",
       " * return a copy of an object with only non-object keys\n",
       " * we need this to avoid circular references\n",
       " * http://stackoverflow.com/a/24161582/3208463\n",
       " */\n",
       "function simpleKeys (original) {\n",
       "  return Object.keys(original).reduce(function (obj, key) {\n",
       "    if (typeof original[key] !== 'object')\n",
       "        obj[key] = original[key]\n",
       "    return obj;\n",
       "  }, {});\n",
       "}\n",
       "\n",
       "mpl.figure.prototype.mouse_event = function(event, name) {\n",
       "    var canvas_pos = mpl.findpos(event)\n",
       "\n",
       "    if (name === 'button_press')\n",
       "    {\n",
       "        this.canvas.focus();\n",
       "        this.canvas_div.focus();\n",
       "    }\n",
       "\n",
       "    var x = canvas_pos.x * mpl.ratio;\n",
       "    var y = canvas_pos.y * mpl.ratio;\n",
       "\n",
       "    this.send_message(name, {x: x, y: y, button: event.button,\n",
       "                             step: event.step,\n",
       "                             guiEvent: simpleKeys(event)});\n",
       "\n",
       "    /* This prevents the web browser from automatically changing to\n",
       "     * the text insertion cursor when the button is pressed.  We want\n",
       "     * to control all of the cursor setting manually through the\n",
       "     * 'cursor' event from matplotlib */\n",
       "    event.preventDefault();\n",
       "    return false;\n",
       "}\n",
       "\n",
       "mpl.figure.prototype._key_event_extra = function(event, name) {\n",
       "    // Handle any extra behaviour associated with a key event\n",
       "}\n",
       "\n",
       "mpl.figure.prototype.key_event = function(event, name) {\n",
       "\n",
       "    // Prevent repeat events\n",
       "    if (name == 'key_press')\n",
       "    {\n",
       "        if (event.which === this._key)\n",
       "            return;\n",
       "        else\n",
       "            this._key = event.which;\n",
       "    }\n",
       "    if (name == 'key_release')\n",
       "        this._key = null;\n",
       "\n",
       "    var value = '';\n",
       "    if (event.ctrlKey && event.which != 17)\n",
       "        value += \"ctrl+\";\n",
       "    if (event.altKey && event.which != 18)\n",
       "        value += \"alt+\";\n",
       "    if (event.shiftKey && event.which != 16)\n",
       "        value += \"shift+\";\n",
       "\n",
       "    value += 'k';\n",
       "    value += event.which.toString();\n",
       "\n",
       "    this._key_event_extra(event, name);\n",
       "\n",
       "    this.send_message(name, {key: value,\n",
       "                             guiEvent: simpleKeys(event)});\n",
       "    return false;\n",
       "}\n",
       "\n",
       "mpl.figure.prototype.toolbar_button_onclick = function(name) {\n",
       "    if (name == 'download') {\n",
       "        this.handle_save(this, null);\n",
       "    } else {\n",
       "        this.send_message(\"toolbar_button\", {name: name});\n",
       "    }\n",
       "};\n",
       "\n",
       "mpl.figure.prototype.toolbar_button_onmouseover = function(tooltip) {\n",
       "    this.message.textContent = tooltip;\n",
       "};\n",
       "mpl.toolbar_items = [[\"Home\", \"Reset original view\", \"fa fa-home icon-home\", \"home\"], [\"Back\", \"Back to  previous view\", \"fa fa-arrow-left icon-arrow-left\", \"back\"], [\"Forward\", \"Forward to next view\", \"fa fa-arrow-right icon-arrow-right\", \"forward\"], [\"\", \"\", \"\", \"\"], [\"Pan\", \"Pan axes with left mouse, zoom with right\", \"fa fa-arrows icon-move\", \"pan\"], [\"Zoom\", \"Zoom to rectangle\", \"fa fa-square-o icon-check-empty\", \"zoom\"], [\"\", \"\", \"\", \"\"], [\"Download\", \"Download plot\", \"fa fa-floppy-o icon-save\", \"download\"]];\n",
       "\n",
       "mpl.extensions = [\"eps\", \"pdf\", \"png\", \"ps\", \"raw\", \"svg\"];\n",
       "\n",
       "mpl.default_extension = \"png\";var comm_websocket_adapter = function(comm) {\n",
       "    // Create a \"websocket\"-like object which calls the given IPython comm\n",
       "    // object with the appropriate methods. Currently this is a non binary\n",
       "    // socket, so there is still some room for performance tuning.\n",
       "    var ws = {};\n",
       "\n",
       "    ws.close = function() {\n",
       "        comm.close()\n",
       "    };\n",
       "    ws.send = function(m) {\n",
       "        //console.log('sending', m);\n",
       "        comm.send(m);\n",
       "    };\n",
       "    // Register the callback with on_msg.\n",
       "    comm.on_msg(function(msg) {\n",
       "        //console.log('receiving', msg['content']['data'], msg);\n",
       "        // Pass the mpl event to the overriden (by mpl) onmessage function.\n",
       "        ws.onmessage(msg['content']['data'])\n",
       "    });\n",
       "    return ws;\n",
       "}\n",
       "\n",
       "mpl.mpl_figure_comm = function(comm, msg) {\n",
       "    // This is the function which gets called when the mpl process\n",
       "    // starts-up an IPython Comm through the \"matplotlib\" channel.\n",
       "\n",
       "    var id = msg.content.data.id;\n",
       "    // Get hold of the div created by the display call when the Comm\n",
       "    // socket was opened in Python.\n",
       "    var element = $(\"#\" + id);\n",
       "    var ws_proxy = comm_websocket_adapter(comm)\n",
       "\n",
       "    function ondownload(figure, format) {\n",
       "        window.open(figure.imageObj.src);\n",
       "    }\n",
       "\n",
       "    var fig = new mpl.figure(id, ws_proxy,\n",
       "                           ondownload,\n",
       "                           element.get(0));\n",
       "\n",
       "    // Call onopen now - mpl needs it, as it is assuming we've passed it a real\n",
       "    // web socket which is closed, not our websocket->open comm proxy.\n",
       "    ws_proxy.onopen();\n",
       "\n",
       "    fig.parent_element = element.get(0);\n",
       "    fig.cell_info = mpl.find_output_cell(\"<div id='\" + id + \"'></div>\");\n",
       "    if (!fig.cell_info) {\n",
       "        console.error(\"Failed to find cell for figure\", id, fig);\n",
       "        return;\n",
       "    }\n",
       "\n",
       "    var output_index = fig.cell_info[2]\n",
       "    var cell = fig.cell_info[0];\n",
       "\n",
       "};\n",
       "\n",
       "mpl.figure.prototype.handle_close = function(fig, msg) {\n",
       "    var width = fig.canvas.width/mpl.ratio\n",
       "    fig.root.unbind('remove')\n",
       "\n",
       "    // Update the output cell to use the data from the current canvas.\n",
       "    fig.push_to_output();\n",
       "    var dataURL = fig.canvas.toDataURL();\n",
       "    // Re-enable the keyboard manager in IPython - without this line, in FF,\n",
       "    // the notebook keyboard shortcuts fail.\n",
       "    IPython.keyboard_manager.enable()\n",
       "    $(fig.parent_element).html('<img src=\"' + dataURL + '\" width=\"' + width + '\">');\n",
       "    fig.close_ws(fig, msg);\n",
       "}\n",
       "\n",
       "mpl.figure.prototype.close_ws = function(fig, msg){\n",
       "    fig.send_message('closing', msg);\n",
       "    // fig.ws.close()\n",
       "}\n",
       "\n",
       "mpl.figure.prototype.push_to_output = function(remove_interactive) {\n",
       "    // Turn the data on the canvas into data in the output cell.\n",
       "    var width = this.canvas.width/mpl.ratio\n",
       "    var dataURL = this.canvas.toDataURL();\n",
       "    this.cell_info[1]['text/html'] = '<img src=\"' + dataURL + '\" width=\"' + width + '\">';\n",
       "}\n",
       "\n",
       "mpl.figure.prototype.updated_canvas_event = function() {\n",
       "    // Tell IPython that the notebook contents must change.\n",
       "    IPython.notebook.set_dirty(true);\n",
       "    this.send_message(\"ack\", {});\n",
       "    var fig = this;\n",
       "    // Wait a second, then push the new image to the DOM so\n",
       "    // that it is saved nicely (might be nice to debounce this).\n",
       "    setTimeout(function () { fig.push_to_output() }, 1000);\n",
       "}\n",
       "\n",
       "mpl.figure.prototype._init_toolbar = function() {\n",
       "    var fig = this;\n",
       "\n",
       "    var nav_element = $('<div/>')\n",
       "    nav_element.attr('style', 'width: 100%');\n",
       "    this.root.append(nav_element);\n",
       "\n",
       "    // Define a callback function for later on.\n",
       "    function toolbar_event(event) {\n",
       "        return fig.toolbar_button_onclick(event['data']);\n",
       "    }\n",
       "    function toolbar_mouse_event(event) {\n",
       "        return fig.toolbar_button_onmouseover(event['data']);\n",
       "    }\n",
       "\n",
       "    for(var toolbar_ind in mpl.toolbar_items){\n",
       "        var name = mpl.toolbar_items[toolbar_ind][0];\n",
       "        var tooltip = mpl.toolbar_items[toolbar_ind][1];\n",
       "        var image = mpl.toolbar_items[toolbar_ind][2];\n",
       "        var method_name = mpl.toolbar_items[toolbar_ind][3];\n",
       "\n",
       "        if (!name) { continue; };\n",
       "\n",
       "        var button = $('<button class=\"btn btn-default\" href=\"#\" title=\"' + name + '\"><i class=\"fa ' + image + ' fa-lg\"></i></button>');\n",
       "        button.click(method_name, toolbar_event);\n",
       "        button.mouseover(tooltip, toolbar_mouse_event);\n",
       "        nav_element.append(button);\n",
       "    }\n",
       "\n",
       "    // Add the status bar.\n",
       "    var status_bar = $('<span class=\"mpl-message\" style=\"text-align:right; float: right;\"/>');\n",
       "    nav_element.append(status_bar);\n",
       "    this.message = status_bar[0];\n",
       "\n",
       "    // Add the close button to the window.\n",
       "    var buttongrp = $('<div class=\"btn-group inline pull-right\"></div>');\n",
       "    var button = $('<button class=\"btn btn-mini btn-primary\" href=\"#\" title=\"Stop Interaction\"><i class=\"fa fa-power-off icon-remove icon-large\"></i></button>');\n",
       "    button.click(function (evt) { fig.handle_close(fig, {}); } );\n",
       "    button.mouseover('Stop Interaction', toolbar_mouse_event);\n",
       "    buttongrp.append(button);\n",
       "    var titlebar = this.root.find($('.ui-dialog-titlebar'));\n",
       "    titlebar.prepend(buttongrp);\n",
       "}\n",
       "\n",
       "mpl.figure.prototype._root_extra_style = function(el){\n",
       "    var fig = this\n",
       "    el.on(\"remove\", function(){\n",
       "\tfig.close_ws(fig, {});\n",
       "    });\n",
       "}\n",
       "\n",
       "mpl.figure.prototype._canvas_extra_style = function(el){\n",
       "    // this is important to make the div 'focusable\n",
       "    el.attr('tabindex', 0)\n",
       "    // reach out to IPython and tell the keyboard manager to turn it's self\n",
       "    // off when our div gets focus\n",
       "\n",
       "    // location in version 3\n",
       "    if (IPython.notebook.keyboard_manager) {\n",
       "        IPython.notebook.keyboard_manager.register_events(el);\n",
       "    }\n",
       "    else {\n",
       "        // location in version 2\n",
       "        IPython.keyboard_manager.register_events(el);\n",
       "    }\n",
       "\n",
       "}\n",
       "\n",
       "mpl.figure.prototype._key_event_extra = function(event, name) {\n",
       "    var manager = IPython.notebook.keyboard_manager;\n",
       "    if (!manager)\n",
       "        manager = IPython.keyboard_manager;\n",
       "\n",
       "    // Check for shift+enter\n",
       "    if (event.shiftKey && event.which == 13) {\n",
       "        this.canvas_div.blur();\n",
       "        // select the cell after this one\n",
       "        var index = IPython.notebook.find_cell_index(this.cell_info[0]);\n",
       "        IPython.notebook.select(index + 1);\n",
       "    }\n",
       "}\n",
       "\n",
       "mpl.figure.prototype.handle_save = function(fig, msg) {\n",
       "    fig.ondownload(fig, null);\n",
       "}\n",
       "\n",
       "\n",
       "mpl.find_output_cell = function(html_output) {\n",
       "    // Return the cell and output element which can be found *uniquely* in the notebook.\n",
       "    // Note - this is a bit hacky, but it is done because the \"notebook_saving.Notebook\"\n",
       "    // IPython event is triggered only after the cells have been serialised, which for\n",
       "    // our purposes (turning an active figure into a static one), is too late.\n",
       "    var cells = IPython.notebook.get_cells();\n",
       "    var ncells = cells.length;\n",
       "    for (var i=0; i<ncells; i++) {\n",
       "        var cell = cells[i];\n",
       "        if (cell.cell_type === 'code'){\n",
       "            for (var j=0; j<cell.output_area.outputs.length; j++) {\n",
       "                var data = cell.output_area.outputs[j];\n",
       "                if (data.data) {\n",
       "                    // IPython >= 3 moved mimebundle to data attribute of output\n",
       "                    data = data.data;\n",
       "                }\n",
       "                if (data['text/html'] == html_output) {\n",
       "                    return [cell, data, j];\n",
       "                }\n",
       "            }\n",
       "        }\n",
       "    }\n",
       "}\n",
       "\n",
       "// Register the function which deals with the matplotlib target/channel.\n",
       "// The kernel may be null if the page has been refreshed.\n",
       "if (IPython.notebook.kernel != null) {\n",
       "    IPython.notebook.kernel.comm_manager.register_target('matplotlib', mpl.mpl_figure_comm);\n",
       "}\n"
      ],
      "text/plain": [
       "<IPython.core.display.Javascript object>"
      ]
     },
     "metadata": {},
     "output_type": "display_data"
    },
    {
     "data": {
      "text/html": [
       "<img src=\"data:image/png;base64,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\" width=\"640\">"
      ],
      "text/plain": [
       "<IPython.core.display.HTML object>"
      ]
     },
     "metadata": {},
     "output_type": "display_data"
    }
   ],
   "source": [
    "newfig()\n",
    "plot(bikeshare.olin, 'rs-')\n",
    "plot(bikeshare.wellesley, 'bo-')"
   ]
  },
  {
   "cell_type": "markdown",
   "metadata": {},
   "source": [
    "We can use the operators `+=` and `-=` to increase and decrease the system variables.  The following lines move a bike from Olin to Wellesley."
   ]
  },
  {
   "cell_type": "code",
   "execution_count": 17,
   "metadata": {},
   "outputs": [
    {
     "data": {
      "text/html": [
       "<div>\n",
       "<style>\n",
       "    .dataframe thead tr:only-child th {\n",
       "        text-align: right;\n",
       "    }\n",
       "\n",
       "    .dataframe thead th {\n",
       "        text-align: left;\n",
       "    }\n",
       "\n",
       "    .dataframe tbody tr th {\n",
       "        vertical-align: top;\n",
       "    }\n",
       "</style>\n",
       "<table border=\"1\" class=\"dataframe\">\n",
       "  <thead>\n",
       "    <tr style=\"text-align: right;\">\n",
       "      <th></th>\n",
       "      <th>value</th>\n",
       "    </tr>\n",
       "  </thead>\n",
       "  <tbody>\n",
       "    <tr>\n",
       "      <th>olin</th>\n",
       "      <td>9</td>\n",
       "    </tr>\n",
       "    <tr>\n",
       "      <th>wellesley</th>\n",
       "      <td>3</td>\n",
       "    </tr>\n",
       "  </tbody>\n",
       "</table>\n",
       "</div>"
      ],
      "text/plain": [
       "olin         9\n",
       "wellesley    3\n",
       "dtype: int64"
      ]
     },
     "execution_count": 17,
     "metadata": {},
     "output_type": "execute_result"
    }
   ],
   "source": [
    "bikeshare.olin -= 1\n",
    "bikeshare.wellesley += 1\n",
    "bikeshare"
   ]
  },
  {
   "cell_type": "markdown",
   "metadata": {},
   "source": [
    "And the following lines plot the updated state of the system.  You should see two new data points with lines connecting them to the old data points."
   ]
  },
  {
   "cell_type": "code",
   "execution_count": 18,
   "metadata": {
    "collapsed": true
   },
   "outputs": [],
   "source": [
    "plot(bikeshare.olin, 'rs-')\n",
    "plot(bikeshare.wellesley, 'bo-')"
   ]
  },
  {
   "cell_type": "markdown",
   "metadata": {},
   "source": [
    "**Exercise:** In the cell below, write a few lines of code to move a bike from Wellesley to Olin and plot the updated state."
   ]
  },
  {
   "cell_type": "code",
   "execution_count": 20,
   "metadata": {
    "collapsed": true
   },
   "outputs": [],
   "source": [
    "# Solution goes here\n",
    "\n",
    "bikeshare.olin +=1\n",
    "bikeshare.wellesley -=1\n",
    "plot(bikeshare.olin, 'rs-')\n",
    "plot(bikeshare.wellesley, 'bo-')"
   ]
  },
  {
   "cell_type": "markdown",
   "metadata": {},
   "source": [
    "## Functions\n",
    "\n",
    "Now we can take the code we've written so far and encapsulate it in functions."
   ]
  },
  {
   "cell_type": "code",
   "execution_count": null,
   "metadata": {
    "collapsed": true
   },
   "outputs": [],
   "source": [
    "def bike_to_wellesley():\n",
    "    bikeshare.olin -= 1\n",
    "    bikeshare.wellesley += 1"
   ]
  },
  {
   "cell_type": "markdown",
   "metadata": {},
   "source": [
    "When you define a function, it doesn't run the statements inside the function, yet."
   ]
  },
  {
   "cell_type": "code",
   "execution_count": null,
   "metadata": {
    "collapsed": true
   },
   "outputs": [],
   "source": [
    "def plot_state():\n",
    "    plot(bikeshare.olin, 'rs-', label='Olin')\n",
    "    plot(bikeshare.wellesley, 'bo-', label='Wellesley')"
   ]
  },
  {
   "cell_type": "markdown",
   "metadata": {},
   "source": [
    "Now when we run the functions, it runs the statements inside."
   ]
  },
  {
   "cell_type": "code",
   "execution_count": null,
   "metadata": {
    "collapsed": true
   },
   "outputs": [],
   "source": [
    "bike_to_wellesley()\n",
    "plot_state()\n",
    "bikeshare"
   ]
  },
  {
   "cell_type": "markdown",
   "metadata": {},
   "source": [
    "You should see two more data points that represent the current state of the system.  If the figure is embedded in the notebook, you might have to scroll up to see the change.\n",
    "\n",
    "One common error is to omit the parentheses, which has the effect of looking up the function, but not running it."
   ]
  },
  {
   "cell_type": "code",
   "execution_count": null,
   "metadata": {
    "collapsed": true
   },
   "outputs": [],
   "source": [
    "bike_to_wellesley"
   ]
  },
  {
   "cell_type": "markdown",
   "metadata": {},
   "source": [
    "The output indicates that `bike_to_wellesley` is a function defined in a \"namespace\" called `__main__`, but you don't have to understand what that means."
   ]
  },
  {
   "cell_type": "markdown",
   "metadata": {},
   "source": [
    "**Exercise:** Define a function called `bike_to_olin` that moves a bike from Wellesley to Olin.  Run the new function and print or plot the results to confirm that it works."
   ]
  },
  {
   "cell_type": "code",
   "execution_count": null,
   "metadata": {
    "collapsed": true
   },
   "outputs": [],
   "source": [
    "# Solution goes here\n",
    "def bike_to_olin():\n",
    "    bikeshare.olin +=1\n",
    "    bikeshare.wellesley -=1\n",
    "bike_to_olin()\n",
    "plot_state()\n",
    "bikeshare"
   ]
  },
  {
   "cell_type": "markdown",
   "metadata": {},
   "source": [
    "## Parameters"
   ]
  },
  {
   "cell_type": "markdown",
   "metadata": {},
   "source": [
    "Before we go on, let's start with a new state object and a new plot."
   ]
  },
  {
   "cell_type": "code",
   "execution_count": null,
   "metadata": {
    "collapsed": true
   },
   "outputs": [],
   "source": [
    "bikeshare = System(olin=10, wellesley=2)\n",
    "newfig()\n",
    "plot_state()"
   ]
  },
  {
   "cell_type": "markdown",
   "metadata": {},
   "source": [
    "Since we have two similar functions, we can create a new function, `move_bike` that takes a parameter `n`, which indicates how many bikes are moving, and in which direction."
   ]
  },
  {
   "cell_type": "code",
   "execution_count": null,
   "metadata": {
    "collapsed": true
   },
   "outputs": [],
   "source": [
    "def move_bike(n):\n",
    "    bikeshare.olin -= n\n",
    "    bikeshare.wellesley += n"
   ]
  },
  {
   "cell_type": "markdown",
   "metadata": {},
   "source": [
    "Now we can use `move_bike` to write simpler versions of the other functions."
   ]
  },
  {
   "cell_type": "code",
   "execution_count": null,
   "metadata": {
    "collapsed": true
   },
   "outputs": [],
   "source": [
    "def bike_to_wellesley():\n",
    "    move_bike(1)\n",
    "    \n",
    "def bike_to_olin():\n",
    "    move_bike(-1)"
   ]
  },
  {
   "cell_type": "markdown",
   "metadata": {},
   "source": [
    "When we define these functions, we replace the old definitions with the new ones.\n",
    "\n",
    "Now we can test them and update the figure."
   ]
  },
  {
   "cell_type": "code",
   "execution_count": null,
   "metadata": {
    "collapsed": true
   },
   "outputs": [],
   "source": [
    "bike_to_wellesley()\n",
    "plot_state()\n",
    "bikeshare"
   ]
  },
  {
   "cell_type": "markdown",
   "metadata": {},
   "source": [
    "Again, each time you run `plot_state` you should see changes in the figure."
   ]
  },
  {
   "cell_type": "code",
   "execution_count": null,
   "metadata": {
    "collapsed": true
   },
   "outputs": [],
   "source": [
    "bike_to_olin()\n",
    "plot_state()\n",
    "bikeshare"
   ]
  },
  {
   "cell_type": "markdown",
   "metadata": {},
   "source": [
    "At this point, `move_bike` is complicated enough that we should add some documentation.  The text in triple-quotation marks is in English, not Python.  It doesn't do anything when the program runs, but it helps people understand what this function does and how to use it."
   ]
  },
  {
   "cell_type": "code",
   "execution_count": null,
   "metadata": {
    "collapsed": true
   },
   "outputs": [],
   "source": [
    "def move_bike(n):\n",
    "    \"\"\"Move bikes.\n",
    "    \n",
    "    n: number of bikes: positive moves from Olin to Wellesley;\n",
    "                        negative moves from Wellesley to Olin\n",
    "    \"\"\"\n",
    "    bikeshare.olin -= n\n",
    "    bikeshare.wellesley += n"
   ]
  },
  {
   "cell_type": "markdown",
   "metadata": {},
   "source": [
    "Whenever you make a figure, you should put labels on the axes to explain what they mean and what units they are measured in.  Here's how:"
   ]
  },
  {
   "cell_type": "code",
   "execution_count": null,
   "metadata": {
    "collapsed": true
   },
   "outputs": [],
   "source": [
    "label_axes(title='Olin-Wellesley Bikeshare',\n",
    "           xlabel='Time step (min)', \n",
    "           ylabel='Number of bikes')"
   ]
  },
  {
   "cell_type": "markdown",
   "metadata": {},
   "source": [
    "Again, you might have to scroll up to see the effect.\n",
    "\n",
    "And you can save figures as files; the suffix of the filename indicates the format you want.  This example saves the current figure in a PDF file."
   ]
  },
  {
   "cell_type": "code",
   "execution_count": null,
   "metadata": {
    "collapsed": true
   },
   "outputs": [],
   "source": [
    "savefig('chap01_fig01.pdf')"
   ]
  },
  {
   "cell_type": "markdown",
   "metadata": {},
   "source": [
    "**Exercise:** The following function definitions start with print statements so they display messages when they run.  Run each of these functions (with appropriate arguments) and confirm that they do what you expect.\n",
    "\n",
    "Adding print statements like this to functions is a useful debugging technique.  Keep it in mind!"
   ]
  },
  {
   "cell_type": "code",
   "execution_count": null,
   "metadata": {
    "collapsed": true
   },
   "outputs": [],
   "source": [
    "def move_bike_debug(n):\n",
    "    print('Running move_bike_debug with argument', n)\n",
    "    bikeshare.olin -= n\n",
    "    bikeshare.wellesley += n\n",
    "    \n",
    "def bike_to_wellesley_debug():\n",
    "    print('Running bike_to_wellesley_debug')\n",
    "    move_bike_debug(1)\n",
    "    \n",
    "def bike_to_olin_debug():\n",
    "    print('Running bike_to_olin_debug')\n",
    "    move_bike_debug(-1)"
   ]
  },
  {
   "cell_type": "code",
   "execution_count": null,
   "metadata": {
    "collapsed": true
   },
   "outputs": [],
   "source": [
    "# Solution goes here\n",
    "move_bike_debug(2)"
   ]
  },
  {
   "cell_type": "code",
   "execution_count": null,
   "metadata": {
    "collapsed": true
   },
   "outputs": [],
   "source": [
    "# Solution goes here\n",
    "bike_to_wellesley_debug()"
   ]
  },
  {
   "cell_type": "code",
   "execution_count": null,
   "metadata": {
    "collapsed": true
   },
   "outputs": [],
   "source": [
    "# Solution goes here\n",
    "bike_to_olin_debug()\n",
    "bikeshare.olin"
   ]
  },
  {
   "cell_type": "markdown",
   "metadata": {},
   "source": [
    "## Conditionals"
   ]
  },
  {
   "cell_type": "markdown",
   "metadata": {},
   "source": [
    "The function `flip` takes a probability and returns either `True` or `False`, which are special values defined by Python.\n",
    "\n",
    "In the following example, the probability is 0.7 or 70%.  If you run this cell several times, you should get `True` about 70% of the time and `False` about 30%."
   ]
  },
  {
   "cell_type": "code",
   "execution_count": null,
   "metadata": {
    "collapsed": true
   },
   "outputs": [],
   "source": [
    "flip(.6)"
   ]
  },
  {
   "cell_type": "markdown",
   "metadata": {},
   "source": [
    "Modify the argument in the previous cell and see what effect it has.\n",
    "\n",
    "In the following example, we use `flip` as part of an if statement.  If the result from `flip` is `True`, we print `heads`; otherwise we do nothing."
   ]
  },
  {
   "cell_type": "code",
   "execution_count": null,
   "metadata": {
    "collapsed": true
   },
   "outputs": [],
   "source": [
    "if flip(0.7):\n",
    "    print('heads')"
   ]
  },
  {
   "cell_type": "markdown",
   "metadata": {},
   "source": [
    "With an else clause, we can print heads or tails depending on whether `flip` returns `True` or `False`."
   ]
  },
  {
   "cell_type": "code",
   "execution_count": null,
   "metadata": {
    "collapsed": true
   },
   "outputs": [],
   "source": [
    "if flip(0.7):\n",
    "    print('heads')\n",
    "else:\n",
    "    print('tails')"
   ]
  },
  {
   "cell_type": "markdown",
   "metadata": {},
   "source": [
    "Now let's get back to the bikeshare system.  Again let's start with a new `System` object and a new plot."
   ]
  },
  {
   "cell_type": "code",
   "execution_count": null,
   "metadata": {
    "collapsed": true
   },
   "outputs": [],
   "source": [
    "bikeshare = System(olin=10, wellesley=2)\n",
    "newfig()\n",
    "plot_state()"
   ]
  },
  {
   "cell_type": "markdown",
   "metadata": {},
   "source": [
    "Suppose that in any given minute, there is a 70% chance that a student picks up a bike at Olin and rides to Wellesley.  We can simulate that like this."
   ]
  },
  {
   "cell_type": "code",
   "execution_count": null,
   "metadata": {
    "collapsed": true
   },
   "outputs": [],
   "source": [
    "if flip(0.7):\n",
    "    bike_to_wellesley()\n",
    "    print('Moving a bike to Wellesley')\n",
    "\n",
    "plot_state()\n",
    "bikeshare"
   ]
  },
  {
   "cell_type": "markdown",
   "metadata": {},
   "source": [
    "And maybe at the same time, there is also a 60% chance that a student at Wellesley rides to Olin."
   ]
  },
  {
   "cell_type": "code",
   "execution_count": null,
   "metadata": {
    "collapsed": true
   },
   "outputs": [],
   "source": [
    "if flip(0.6):\n",
    "    bike_to_olin()\n",
    "    print('Moving a bike to Olin')\n",
    "\n",
    "plot_state()\n",
    "bikeshare"
   ]
  },
  {
   "cell_type": "markdown",
   "metadata": {},
   "source": [
    "We can wrap that code in a function called `step` that simulates one time step.  In any given minute, a student might ride from Olin to Wellesley, from Wellesley to Olin, or both, or neither, depending on the results of `flip`."
   ]
  },
  {
   "cell_type": "code",
   "execution_count": null,
   "metadata": {
    "collapsed": true
   },
   "outputs": [],
   "source": [
    "def step():\n",
    "    if flip(0.7):\n",
    "        bike_to_wellesley()\n",
    "        print('Moving a bike to Wellesley')\n",
    "        \n",
    "    if flip(0.6):\n",
    "        bike_to_olin()\n",
    "        print('Moving a bike to Olin')"
   ]
  },
  {
   "cell_type": "markdown",
   "metadata": {},
   "source": [
    "If you run `step` a few times, it should update the current figure.  In each time step, the number of bikes at each location might go up, down, or stay the same."
   ]
  },
  {
   "cell_type": "code",
   "execution_count": null,
   "metadata": {
    "collapsed": true
   },
   "outputs": [],
   "source": [
    "step()\n",
    "plot_state()\n",
    "bikeshare"
   ]
  },
  {
   "cell_type": "markdown",
   "metadata": {},
   "source": [
    "The following function labels the axes and adds a legend to the figure."
   ]
  },
  {
   "cell_type": "code",
   "execution_count": null,
   "metadata": {
    "collapsed": true
   },
   "outputs": [],
   "source": [
    "def decorate():  \n",
    "    legend(loc='best')\n",
    "    label_axes(title='Olin-Wellesley Bikeshare',\n",
    "               xlabel='Time step (min)', \n",
    "               ylabel='Number of bikes')"
   ]
  },
  {
   "cell_type": "markdown",
   "metadata": {},
   "source": [
    "As always, when you define a function, it has no effect until you run it."
   ]
  },
  {
   "cell_type": "code",
   "execution_count": null,
   "metadata": {
    "collapsed": true
   },
   "outputs": [],
   "source": [
    "decorate()"
   ]
  },
  {
   "cell_type": "markdown",
   "metadata": {},
   "source": [
    "**Exercise:**  Change the argument of `legend` to `'random string'` and run `decorate` again.  You should get an error message that lists the valid location where you can put the legend."
   ]
  },
  {
   "cell_type": "markdown",
   "metadata": {},
   "source": [
    "## Optional parameters"
   ]
  },
  {
   "cell_type": "markdown",
   "metadata": {},
   "source": [
    "Again let's start with a new `System` object and a new plot."
   ]
  },
  {
   "cell_type": "code",
   "execution_count": null,
   "metadata": {
    "collapsed": true
   },
   "outputs": [],
   "source": [
    "bikeshare = System(olin=10, wellesley=2)\n",
    "newfig()\n",
    "plot_state()"
   ]
  },
  {
   "cell_type": "markdown",
   "metadata": {},
   "source": [
    "We can make `step` more general by adding parameters.  Because these parameters have default values, they are optional."
   ]
  },
  {
   "cell_type": "code",
   "execution_count": null,
   "metadata": {
    "collapsed": true
   },
   "outputs": [],
   "source": [
    "def step(p1=0.5, p2=0.5):\n",
    "    print('p1 ->', p1)\n",
    "    print('p2 ->', p2)\n",
    "    if flip(p1):\n",
    "        bike_to_wellesley()\n",
    "    \n",
    "    if flip(p2):\n",
    "        bike_to_olin()"
   ]
  },
  {
   "cell_type": "markdown",
   "metadata": {},
   "source": [
    "I added print statements, so each time we run `step` we can see the arguments.\n",
    "\n",
    "If you provide no arguments, you get the default values:"
   ]
  },
  {
   "cell_type": "code",
   "execution_count": null,
   "metadata": {
    "collapsed": true
   },
   "outputs": [],
   "source": [
    "step()\n",
    "plot_state()"
   ]
  },
  {
   "cell_type": "markdown",
   "metadata": {},
   "source": [
    "If you provide one argument, it overrides the first parameter."
   ]
  },
  {
   "cell_type": "code",
   "execution_count": null,
   "metadata": {
    "collapsed": true
   },
   "outputs": [],
   "source": [
    "step(0.4)\n",
    "plot_state()"
   ]
  },
  {
   "cell_type": "markdown",
   "metadata": {},
   "source": [
    "If you provide two arguments, they override both."
   ]
  },
  {
   "cell_type": "code",
   "execution_count": null,
   "metadata": {
    "collapsed": true
   },
   "outputs": [],
   "source": [
    "step(0.4, 0.2)\n",
    "plot_state()"
   ]
  },
  {
   "cell_type": "markdown",
   "metadata": {},
   "source": [
    "You can specify the names of the parameters you want to override."
   ]
  },
  {
   "cell_type": "code",
   "execution_count": null,
   "metadata": {
    "collapsed": true
   },
   "outputs": [],
   "source": [
    "step(p1=0.4, p2=0.2)\n",
    "plot_state()"
   ]
  },
  {
   "cell_type": "markdown",
   "metadata": {},
   "source": [
    "Which means you can override the second parameter and use the default for the first."
   ]
  },
  {
   "cell_type": "code",
   "execution_count": null,
   "metadata": {
    "collapsed": true
   },
   "outputs": [],
   "source": [
    "step(p2=0.2)\n",
    "plot_state()"
   ]
  },
  {
   "cell_type": "markdown",
   "metadata": {},
   "source": [
    "You can combine both forms, but it is not very common:"
   ]
  },
  {
   "cell_type": "code",
   "execution_count": null,
   "metadata": {
    "collapsed": true
   },
   "outputs": [],
   "source": [
    "step(0.4, p2=0.2)\n",
    "plot_state()"
   ]
  },
  {
   "cell_type": "markdown",
   "metadata": {},
   "source": [
    "One reason it's not common is that it's error prone.  The following example causes an error."
   ]
  },
  {
   "cell_type": "code",
   "execution_count": null,
   "metadata": {
    "collapsed": true
   },
   "outputs": [],
   "source": [
    "# If you remove the # at the beginning of the next line and run it, you get\n",
    "# SyntaxError: positional argument follows keyword argument\n",
    "\n",
    "#step(p1=0.4, 0.2)"
   ]
  },
  {
   "cell_type": "markdown",
   "metadata": {},
   "source": [
    "From the error message, you might infer that arguments like `step(0.4, 0.2)` are called \"positional\" and arguments like `step(p1=0.4, p2=0.2)` are called \"keyword arguments\"."
   ]
  },
  {
   "cell_type": "markdown",
   "metadata": {},
   "source": [
    "**Exercise:** Write a version of `decorate` that takes an optional parameter named `loc` with default value `'best'`.  It should pass the value of `loc` along as an argument to `legend.`  Test your function with different values of `loc`.  [You can see the list of legal values here](https://matplotlib.org/api/pyplot_api.html#matplotlib.pyplot.legend)."
   ]
  },
  {
   "cell_type": "code",
   "execution_count": null,
   "metadata": {
    "collapsed": true
   },
   "outputs": [],
   "source": [
    "# Solution goes here\n",
    "def decorates(loc='best'):  \n",
    "    legend(loc=loc)\n",
    "    label_axes(title='Olin-Wellesley Bikeshare',\n",
    "               xlabel='Time step (min)', \n",
    "               ylabel='Number of bikes')\n",
    "decorates('upper right')"
   ]
  },
  {
   "cell_type": "code",
   "execution_count": null,
   "metadata": {
    "collapsed": true
   },
   "outputs": [],
   "source": [
    "# Solution goes here"
   ]
  },
  {
   "cell_type": "markdown",
   "metadata": {},
   "source": [
    "## For loop"
   ]
  },
  {
   "cell_type": "markdown",
   "metadata": {},
   "source": [
    "Before we go on, I'll redefine `step` without the print statements."
   ]
  },
  {
   "cell_type": "code",
   "execution_count": null,
   "metadata": {
    "collapsed": true
   },
   "outputs": [],
   "source": [
    "def step(p1=0.5, p2=0.5):\n",
    "    if flip(p1):\n",
    "        bike_to_wellesley()\n",
    "    \n",
    "    if flip(p2):\n",
    "        bike_to_olin()"
   ]
  },
  {
   "cell_type": "markdown",
   "metadata": {},
   "source": [
    "And let's start again with a new `System` object and a new figure."
   ]
  },
  {
   "cell_type": "code",
   "execution_count": null,
   "metadata": {
    "collapsed": true
   },
   "outputs": [],
   "source": [
    "bikeshare = System(olin=10, wellesley=2)\n",
    "newfig()\n",
    "plot_state()\n",
    "decorate()"
   ]
  },
  {
   "cell_type": "markdown",
   "metadata": {},
   "source": [
    "We can use a for loop to move 4 bikes from Olin to Wellesley."
   ]
  },
  {
   "cell_type": "code",
   "execution_count": null,
   "metadata": {
    "collapsed": true
   },
   "outputs": [],
   "source": [
    "for i in range(4):\n",
    "    bike_to_wellesley()\n",
    "    plot_state()"
   ]
  },
  {
   "cell_type": "markdown",
   "metadata": {},
   "source": [
    "Or we can simulate 4 random time steps."
   ]
  },
  {
   "cell_type": "code",
   "execution_count": null,
   "metadata": {
    "collapsed": true
   },
   "outputs": [],
   "source": [
    "for i in range(4):\n",
    "    step()\n",
    "    plot_state()"
   ]
  },
  {
   "cell_type": "markdown",
   "metadata": {},
   "source": [
    "If each step corresponds to a minute, we can simulate the rest of the hour like this."
   ]
  },
  {
   "cell_type": "code",
   "execution_count": null,
   "metadata": {
    "collapsed": true
   },
   "outputs": [],
   "source": [
    "for i in range(52):\n",
    "    step(p1=0.4, p2=0.2)\n",
    "    plot_state()"
   ]
  },
  {
   "cell_type": "markdown",
   "metadata": {},
   "source": [
    "**Exercise:** Combine the examples from the previous two sections to write a function named `run_steps` that takes three parameters, named `num_steps`, `p1`, and `p2`.  It should use a for loop to run `step` the number of times specified by `num_steps`, passing along the specified values of `p1` and `p2`.  After each step, it should plot the updated state.\n",
    "\n",
    "Test your function by creating a new `System` object, creating a new figure, and running `run_steps`."
   ]
  },
  {
   "cell_type": "code",
   "execution_count": null,
   "metadata": {
    "collapsed": true
   },
   "outputs": [],
   "source": [
    "# Solution goes here\n",
    "def run_steps(num_steps, p1, p2):\n",
    "    for i in range (num_steps):\n",
    "        step(p1, p2)\n",
    "        plot_state()"
   ]
  },
  {
   "cell_type": "code",
   "execution_count": null,
   "metadata": {
    "collapsed": true
   },
   "outputs": [],
   "source": [
    "# Solution goes here\n",
    "bikeshare = System(olin = 10, wellesley = 2)\n",
    "newfig()\n",
    "run_steps(10, .4, .8)"
   ]
  },
  {
   "cell_type": "code",
   "execution_count": null,
   "metadata": {
    "collapsed": true
   },
   "outputs": [],
   "source": []
  },
  {
   "cell_type": "code",
   "execution_count": null,
   "metadata": {
    "collapsed": true
   },
   "outputs": [],
   "source": []
  },
  {
   "cell_type": "code",
   "execution_count": null,
   "metadata": {
    "collapsed": true
   },
   "outputs": [],
   "source": []
  },
  {
   "cell_type": "code",
   "execution_count": null,
   "metadata": {
    "collapsed": true
   },
   "outputs": [],
   "source": []
  },
  {
   "cell_type": "code",
   "execution_count": null,
   "metadata": {
    "collapsed": true
   },
   "outputs": [],
   "source": []
  }
 ],
 "metadata": {
  "kernelspec": {
   "display_name": "Python 3",
   "language": "python",
   "name": "python3"
  },
  "language_info": {
   "codemirror_mode": {
    "name": "ipython",
    "version": 3
   },
   "file_extension": ".py",
   "mimetype": "text/x-python",
   "name": "python",
   "nbconvert_exporter": "python",
   "pygments_lexer": "ipython3",
   "version": "3.6.1"
  }
 },
 "nbformat": 4,
 "nbformat_minor": 1
}
